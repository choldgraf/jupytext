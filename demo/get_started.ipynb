{
 "cells": [
  {
   "cell_type": "markdown",
   "metadata": {},
   "source": [
    "# Getting started with Jupytext\n",
    "\n",
    "This small notebook shows you how to activate Jupytext in the JupyterLab\n",
    "environment. We'll show you a few things that you can do with Jupytext and\n",
    "a bit of what happens under the hood.\n",
    "\n",
    "**Note: to run this notebook locally, you need to first follow the Jupytext\n",
    "installation instructions and activate the JupyterLab plugin. If you're on\n",
    "Binder, it should already work.**\n",
    "\n",
    "## Enabling Jupytext in a new notebook\n",
    "\n",
    "This notebook is brand new - it hasn't had any special extra metadata added\n",
    "to it. \n",
    "\n",
    "If we want Jupytext to save files in multiple formats automatically,\n",
    "we can use the JupyterLab **command palette** to do so.\n",
    "\n",
    "* Click on the little 🎨 icon to the left\n",
    "* Then type **`Jupytext`**. You should see a number of commands come up. Each\n",
    "  one tells Jupytext to save the notebook in a different\n",
    "  file format automatically.\n",
    "* Select **Pair notebook with Markdown**\n",
    "\n",
    "That's it! If you have Jupytext installed, it will now save your notebook in\n",
    "markdown format automatically when you save this `.ipynb` file.\n",
    "\n",
    "After you've done this, save the notebook. You should now see a new file called\n",
    "**`get_started.md`** in the same directory as this notebook.\n",
    "\n",
    "## How does Jupytext know to do this?\n",
    "\n",
    "Jupytext uses notebook-level metadata to keep track of what languages are paired\n",
    "with a notebook. Below we'll print the metadata of this notebook so you can see\n",
    "what the Jupytext metadata looks like."
   ]
  },
  {
   "cell_type": "code",
   "execution_count": null,
   "metadata": {},
   "outputs": [],
   "source": [
    "import nbformat as nbf\n",
    "from IPython.display import JSON\n",
    "notebook = nbf.read('./get_started.ipynb', nbf.NO_CONVERT)\n",
    "JSON(notebook['metadata'])"
   ]
  },
  {
   "cell_type": "markdown",
   "metadata": {},
   "source": [
    "As you select different languages from the command palette (following the instructions\n",
    "above) and save the notebook, you'll see this metadata change."
   ]
  },
  {
   "cell_type": "markdown",
   "metadata": {},
   "source": [
    "## That's it!\n",
    "\n",
    "Play around with different kinds of code and outputs to see how each is\n",
    "converted into its corresponding text format. Here's a little Python code\n",
    "to get you started:"
   ]
  },
  {
   "cell_type": "code",
   "execution_count": null,
   "metadata": {},
   "outputs": [],
   "source": [
    "import numpy as np\n",
    "import matplotlib.pyplot as plt\n",
    "\n",
    "plt.scatter(*np.random.randn(2, 100), c=np.random.randn(100), s=np.random.rand(100)*100)"
   ]
  },
  {
   "cell_type": "markdown",
   "metadata": {},
   "source": [
    "# Experiment with other notebooks\n",
    "\n",
    "There are several other demo notebooks for you to explore Jupytext's functionality,\n",
    "try them out!"
   ]
  }
 ],
 "metadata": {
  "kernelspec": {
   "display_name": "Python 3",
   "language": "python",
   "name": "python3"
  },
  "language_info": {
   "codemirror_mode": {
    "name": "ipython",
    "version": 3
   },
   "file_extension": ".py",
   "mimetype": "text/x-python",
   "name": "python",
   "nbconvert_exporter": "python",
   "pygments_lexer": "ipython3",
   "version": "3.6.5"
  }
 },
 "nbformat": 4,
 "nbformat_minor": 2
}
